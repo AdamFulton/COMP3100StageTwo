{
  "cells": [
    {
      "cell_type": "markdown",
      "metadata": {
        "id": "view-in-github",
        "colab_type": "text"
      },
      "source": [
        "<a href=\"https://colab.research.google.com/github/AdamFulton/COMP3100StageTwo/blob/main/time_series_1Dcnn.ipynb\" target=\"_parent\"><img src=\"https://colab.research.google.com/assets/colab-badge.svg\" alt=\"Open In Colab\"/></a>"
      ]
    },
    {
      "cell_type": "code",
      "execution_count": 518,
      "metadata": {
        "id": "7aQ-QokMJdsB"
      },
      "outputs": [],
      "source": [
        "import pandas as pd\n",
        "import torch\n",
        "import torch.nn as nn\n",
        "from torch.utils.data import Dataset, DataLoader\n",
        "import matplotlib.pyplot as plt\n",
        "import numpy as np\n",
        "from sklearn.preprocessing import MinMaxScaler\n",
        "from sklearn.metrics import accuracy_score"
      ]
    },
    {
      "cell_type": "code",
      "source": [
        "gpu_info = !nvidia-smi\n",
        "gpu_info = '\\n'.join(gpu_info)\n",
        "if gpu_info.find('failed') >= 0:\n",
        "  print('Not connected to a GPU')\n",
        "else:\n",
        "  print(gpu_info)"
      ],
      "metadata": {
        "colab": {
          "base_uri": "https://localhost:8080/"
        },
        "id": "kBGP2PbLwJpP",
        "outputId": "e4fbdca5-084a-4bd8-b0a3-70551b63d1e8"
      },
      "execution_count": 519,
      "outputs": [
        {
          "output_type": "stream",
          "name": "stdout",
          "text": [
            "Tue Apr 26 14:23:38 2022       \n",
            "+-----------------------------------------------------------------------------+\n",
            "| NVIDIA-SMI 460.32.03    Driver Version: 460.32.03    CUDA Version: 11.2     |\n",
            "|-------------------------------+----------------------+----------------------+\n",
            "| GPU  Name        Persistence-M| Bus-Id        Disp.A | Volatile Uncorr. ECC |\n",
            "| Fan  Temp  Perf  Pwr:Usage/Cap|         Memory-Usage | GPU-Util  Compute M. |\n",
            "|                               |                      |               MIG M. |\n",
            "|===============================+======================+======================|\n",
            "|   0  Tesla T4            Off  | 00000000:00:04.0 Off |                    0 |\n",
            "| N/A   67C    P0    28W /  70W |   1696MiB / 15109MiB |      0%      Default |\n",
            "|                               |                      |                  N/A |\n",
            "+-------------------------------+----------------------+----------------------+\n",
            "                                                                               \n",
            "+-----------------------------------------------------------------------------+\n",
            "| Processes:                                                                  |\n",
            "|  GPU   GI   CI        PID   Type   Process name                  GPU Memory |\n",
            "|        ID   ID                                                   Usage      |\n",
            "|=============================================================================|\n",
            "+-----------------------------------------------------------------------------+\n"
          ]
        }
      ]
    },
    {
      "cell_type": "code",
      "execution_count": 520,
      "metadata": {
        "colab": {
          "base_uri": "https://localhost:8080/",
          "height": 374
        },
        "id": "fJXTteebKEhB",
        "outputId": "06a9589e-c1b8-447c-e231-31b18304aa54"
      },
      "outputs": [
        {
          "output_type": "execute_result",
          "data": {
            "text/plain": [
              "   Unnamed: 0 symbol                       date    close     high     low  \\\n",
              "0           0   AAPL  2015-05-27 00:00:00+00:00  132.045  132.260  130.05   \n",
              "1           1   AAPL  2015-05-28 00:00:00+00:00  131.780  131.950  131.10   \n",
              "2           2   AAPL  2015-05-29 00:00:00+00:00  130.280  131.450  129.90   \n",
              "3           3   AAPL  2015-06-01 00:00:00+00:00  130.535  131.390  130.05   \n",
              "4           4   AAPL  2015-06-02 00:00:00+00:00  129.960  130.655  129.32   \n",
              "\n",
              "     open    volume    adjClose     adjHigh      adjLow     adjOpen  \\\n",
              "0  130.34  45833246  121.682558  121.880685  119.844118  120.111360   \n",
              "1  131.86  30733309  121.438354  121.595013  120.811718  121.512076   \n",
              "2  131.23  50884452  120.056069  121.134251  119.705890  120.931516   \n",
              "3  131.20  32112797  120.291057  121.078960  119.844118  120.903870   \n",
              "4  129.86  33667627  119.761181  120.401640  119.171406  119.669029   \n",
              "\n",
              "   adjVolume  divCash  splitFactor  \n",
              "0   45833246      0.0          1.0  \n",
              "1   30733309      0.0          1.0  \n",
              "2   50884452      0.0          1.0  \n",
              "3   32112797      0.0          1.0  \n",
              "4   33667627      0.0          1.0  "
            ],
            "text/html": [
              "\n",
              "  <div id=\"df-c4426be8-7a4e-4e2c-bbf4-b7adb52ea09a\">\n",
              "    <div class=\"colab-df-container\">\n",
              "      <div>\n",
              "<style scoped>\n",
              "    .dataframe tbody tr th:only-of-type {\n",
              "        vertical-align: middle;\n",
              "    }\n",
              "\n",
              "    .dataframe tbody tr th {\n",
              "        vertical-align: top;\n",
              "    }\n",
              "\n",
              "    .dataframe thead th {\n",
              "        text-align: right;\n",
              "    }\n",
              "</style>\n",
              "<table border=\"1\" class=\"dataframe\">\n",
              "  <thead>\n",
              "    <tr style=\"text-align: right;\">\n",
              "      <th></th>\n",
              "      <th>Unnamed: 0</th>\n",
              "      <th>symbol</th>\n",
              "      <th>date</th>\n",
              "      <th>close</th>\n",
              "      <th>high</th>\n",
              "      <th>low</th>\n",
              "      <th>open</th>\n",
              "      <th>volume</th>\n",
              "      <th>adjClose</th>\n",
              "      <th>adjHigh</th>\n",
              "      <th>adjLow</th>\n",
              "      <th>adjOpen</th>\n",
              "      <th>adjVolume</th>\n",
              "      <th>divCash</th>\n",
              "      <th>splitFactor</th>\n",
              "    </tr>\n",
              "  </thead>\n",
              "  <tbody>\n",
              "    <tr>\n",
              "      <th>0</th>\n",
              "      <td>0</td>\n",
              "      <td>AAPL</td>\n",
              "      <td>2015-05-27 00:00:00+00:00</td>\n",
              "      <td>132.045</td>\n",
              "      <td>132.260</td>\n",
              "      <td>130.05</td>\n",
              "      <td>130.34</td>\n",
              "      <td>45833246</td>\n",
              "      <td>121.682558</td>\n",
              "      <td>121.880685</td>\n",
              "      <td>119.844118</td>\n",
              "      <td>120.111360</td>\n",
              "      <td>45833246</td>\n",
              "      <td>0.0</td>\n",
              "      <td>1.0</td>\n",
              "    </tr>\n",
              "    <tr>\n",
              "      <th>1</th>\n",
              "      <td>1</td>\n",
              "      <td>AAPL</td>\n",
              "      <td>2015-05-28 00:00:00+00:00</td>\n",
              "      <td>131.780</td>\n",
              "      <td>131.950</td>\n",
              "      <td>131.10</td>\n",
              "      <td>131.86</td>\n",
              "      <td>30733309</td>\n",
              "      <td>121.438354</td>\n",
              "      <td>121.595013</td>\n",
              "      <td>120.811718</td>\n",
              "      <td>121.512076</td>\n",
              "      <td>30733309</td>\n",
              "      <td>0.0</td>\n",
              "      <td>1.0</td>\n",
              "    </tr>\n",
              "    <tr>\n",
              "      <th>2</th>\n",
              "      <td>2</td>\n",
              "      <td>AAPL</td>\n",
              "      <td>2015-05-29 00:00:00+00:00</td>\n",
              "      <td>130.280</td>\n",
              "      <td>131.450</td>\n",
              "      <td>129.90</td>\n",
              "      <td>131.23</td>\n",
              "      <td>50884452</td>\n",
              "      <td>120.056069</td>\n",
              "      <td>121.134251</td>\n",
              "      <td>119.705890</td>\n",
              "      <td>120.931516</td>\n",
              "      <td>50884452</td>\n",
              "      <td>0.0</td>\n",
              "      <td>1.0</td>\n",
              "    </tr>\n",
              "    <tr>\n",
              "      <th>3</th>\n",
              "      <td>3</td>\n",
              "      <td>AAPL</td>\n",
              "      <td>2015-06-01 00:00:00+00:00</td>\n",
              "      <td>130.535</td>\n",
              "      <td>131.390</td>\n",
              "      <td>130.05</td>\n",
              "      <td>131.20</td>\n",
              "      <td>32112797</td>\n",
              "      <td>120.291057</td>\n",
              "      <td>121.078960</td>\n",
              "      <td>119.844118</td>\n",
              "      <td>120.903870</td>\n",
              "      <td>32112797</td>\n",
              "      <td>0.0</td>\n",
              "      <td>1.0</td>\n",
              "    </tr>\n",
              "    <tr>\n",
              "      <th>4</th>\n",
              "      <td>4</td>\n",
              "      <td>AAPL</td>\n",
              "      <td>2015-06-02 00:00:00+00:00</td>\n",
              "      <td>129.960</td>\n",
              "      <td>130.655</td>\n",
              "      <td>129.32</td>\n",
              "      <td>129.86</td>\n",
              "      <td>33667627</td>\n",
              "      <td>119.761181</td>\n",
              "      <td>120.401640</td>\n",
              "      <td>119.171406</td>\n",
              "      <td>119.669029</td>\n",
              "      <td>33667627</td>\n",
              "      <td>0.0</td>\n",
              "      <td>1.0</td>\n",
              "    </tr>\n",
              "  </tbody>\n",
              "</table>\n",
              "</div>\n",
              "      <button class=\"colab-df-convert\" onclick=\"convertToInteractive('df-c4426be8-7a4e-4e2c-bbf4-b7adb52ea09a')\"\n",
              "              title=\"Convert this dataframe to an interactive table.\"\n",
              "              style=\"display:none;\">\n",
              "        \n",
              "  <svg xmlns=\"http://www.w3.org/2000/svg\" height=\"24px\"viewBox=\"0 0 24 24\"\n",
              "       width=\"24px\">\n",
              "    <path d=\"M0 0h24v24H0V0z\" fill=\"none\"/>\n",
              "    <path d=\"M18.56 5.44l.94 2.06.94-2.06 2.06-.94-2.06-.94-.94-2.06-.94 2.06-2.06.94zm-11 1L8.5 8.5l.94-2.06 2.06-.94-2.06-.94L8.5 2.5l-.94 2.06-2.06.94zm10 10l.94 2.06.94-2.06 2.06-.94-2.06-.94-.94-2.06-.94 2.06-2.06.94z\"/><path d=\"M17.41 7.96l-1.37-1.37c-.4-.4-.92-.59-1.43-.59-.52 0-1.04.2-1.43.59L10.3 9.45l-7.72 7.72c-.78.78-.78 2.05 0 2.83L4 21.41c.39.39.9.59 1.41.59.51 0 1.02-.2 1.41-.59l7.78-7.78 2.81-2.81c.8-.78.8-2.07 0-2.86zM5.41 20L4 18.59l7.72-7.72 1.47 1.35L5.41 20z\"/>\n",
              "  </svg>\n",
              "      </button>\n",
              "      \n",
              "  <style>\n",
              "    .colab-df-container {\n",
              "      display:flex;\n",
              "      flex-wrap:wrap;\n",
              "      gap: 12px;\n",
              "    }\n",
              "\n",
              "    .colab-df-convert {\n",
              "      background-color: #E8F0FE;\n",
              "      border: none;\n",
              "      border-radius: 50%;\n",
              "      cursor: pointer;\n",
              "      display: none;\n",
              "      fill: #1967D2;\n",
              "      height: 32px;\n",
              "      padding: 0 0 0 0;\n",
              "      width: 32px;\n",
              "    }\n",
              "\n",
              "    .colab-df-convert:hover {\n",
              "      background-color: #E2EBFA;\n",
              "      box-shadow: 0px 1px 2px rgba(60, 64, 67, 0.3), 0px 1px 3px 1px rgba(60, 64, 67, 0.15);\n",
              "      fill: #174EA6;\n",
              "    }\n",
              "\n",
              "    [theme=dark] .colab-df-convert {\n",
              "      background-color: #3B4455;\n",
              "      fill: #D2E3FC;\n",
              "    }\n",
              "\n",
              "    [theme=dark] .colab-df-convert:hover {\n",
              "      background-color: #434B5C;\n",
              "      box-shadow: 0px 1px 3px 1px rgba(0, 0, 0, 0.15);\n",
              "      filter: drop-shadow(0px 1px 2px rgba(0, 0, 0, 0.3));\n",
              "      fill: #FFFFFF;\n",
              "    }\n",
              "  </style>\n",
              "\n",
              "      <script>\n",
              "        const buttonEl =\n",
              "          document.querySelector('#df-c4426be8-7a4e-4e2c-bbf4-b7adb52ea09a button.colab-df-convert');\n",
              "        buttonEl.style.display =\n",
              "          google.colab.kernel.accessAllowed ? 'block' : 'none';\n",
              "\n",
              "        async function convertToInteractive(key) {\n",
              "          const element = document.querySelector('#df-c4426be8-7a4e-4e2c-bbf4-b7adb52ea09a');\n",
              "          const dataTable =\n",
              "            await google.colab.kernel.invokeFunction('convertToInteractive',\n",
              "                                                     [key], {});\n",
              "          if (!dataTable) return;\n",
              "\n",
              "          const docLinkHtml = 'Like what you see? Visit the ' +\n",
              "            '<a target=\"_blank\" href=https://colab.research.google.com/notebooks/data_table.ipynb>data table notebook</a>'\n",
              "            + ' to learn more about interactive tables.';\n",
              "          element.innerHTML = '';\n",
              "          dataTable['output_type'] = 'display_data';\n",
              "          await google.colab.output.renderOutput(dataTable, element);\n",
              "          const docLink = document.createElement('div');\n",
              "          docLink.innerHTML = docLinkHtml;\n",
              "          element.appendChild(docLink);\n",
              "        }\n",
              "      </script>\n",
              "    </div>\n",
              "  </div>\n",
              "  "
            ]
          },
          "metadata": {},
          "execution_count": 520
        }
      ],
      "source": [
        "df.head()"
      ]
    },
    {
      "cell_type": "code",
      "source": [
        "df = pd.read_csv(\"AAPL.csv\")\n",
        "\n",
        "df1 = df.reset_index()['close']"
      ],
      "metadata": {
        "id": "EP-jSQ1rkS7n"
      },
      "execution_count": 521,
      "outputs": []
    },
    {
      "cell_type": "code",
      "source": [
        "plt.plot(df1)"
      ],
      "metadata": {
        "colab": {
          "base_uri": "https://localhost:8080/",
          "height": 283
        },
        "id": "Hchl7Rdakz76",
        "outputId": "a07f06cc-024f-4761-f98a-005632d91344"
      },
      "execution_count": 522,
      "outputs": [
        {
          "output_type": "execute_result",
          "data": {
            "text/plain": [
              "[<matplotlib.lines.Line2D at 0x7f48b9a731d0>]"
            ]
          },
          "metadata": {},
          "execution_count": 522
        },
        {
          "output_type": "display_data",
          "data": {
            "text/plain": [
              "<Figure size 432x288 with 1 Axes>"
            ],
            "image/png": "[encoded data removed]"
          },
          "metadata": {
            "needs_background": "light"
          }
        }
      ]
    },
    {
      "cell_type": "code",
      "source": [
        "scalar = MinMaxScaler(feature_range=(0,1))\n",
        "df1 = scalar.fit_transform(np.array(df1).reshape(-1,1))"
      ],
      "metadata": {
        "id": "pbiytpMllB5r"
      },
      "execution_count": 523,
      "outputs": []
    },
    {
      "cell_type": "code",
      "source": [
        "training_size=int(len(df1)*0.60)\n",
        "validate_size = int(len(df1)*0.20)\n",
        "test_size=len(df1)-training_size + validate_size\n",
        "train_data,test_data=df1[0:training_size,:],df1[training_size:len(df1),:1]"
      ],
      "metadata": {
        "id": "_VcrV9bHlTBx"
      },
      "execution_count": 524,
      "outputs": []
    },
    {
      "cell_type": "code",
      "source": [
        "class StockDataset(Dataset):\n",
        "    def __init__(self,data,seq_len = 100):\n",
        "        self.data = data\n",
        "        self.data = torch.from_numpy(data).float().view(-1)\n",
        "        self.seq_len = seq_len\n",
        "        \n",
        "    def __len__(self):\n",
        "        return len(self.data)-self.seq_len-1\n",
        "\n",
        "    def __getitem__(self, index) :\n",
        "        return  self.data[index : index+self.seq_len] , self.data[index+self.seq_len]\n",
        "\n",
        "\n",
        "train_dataset = StockDataset(train_data) \n",
        "test_dataset = StockDataset(test_data)"
      ],
      "metadata": {
        "id": "5-QeLudLlvp8"
      },
      "execution_count": 525,
      "outputs": []
    },
    {
      "cell_type": "code",
      "source": [
        "batch_size = 64\n",
        "train_dataloader = DataLoader(train_dataset,batch_size,drop_last=True)\n",
        "test_dataloader = DataLoader(test_dataset,batch_size , drop_last=True)\n",
        "\n",
        "device = \"cuda\" if torch.cuda.is_available() else \"cpu\"\n",
        "\n",
        "\n",
        "for i, j in train_dataloader:\n",
        "\n",
        "  print(i.shape)\n",
        "  break"
      ],
      "metadata": {
        "colab": {
          "base_uri": "https://localhost:8080/"
        },
        "id": "Gz_NHcHDlxdU",
        "outputId": "0e42a597-c601-4f5d-f9c1-b17b7aa15067"
      },
      "execution_count": 526,
      "outputs": [
        {
          "output_type": "stream",
          "name": "stdout",
          "text": [
            "torch.Size([64, 100])\n"
          ]
        }
      ]
    },
    {
      "cell_type": "code",
      "execution_count": 527,
      "metadata": {
        "id": "FDEY73NcOFKU"
      },
      "outputs": [],
      "source": [
        "class CNN(nn.Module):\n",
        "    \"\"\"Model for human-activity-recognition.\"\"\"\n",
        "    def __init__(self, input_size, num_classes):\n",
        "        super().__init__()\n",
        "\n",
        "       \n",
        "        self.features = nn.Sequential(\n",
        "            nn.Conv1d(input_size, 64, 1),\n",
        "            nn.MaxPool1d(1),\n",
        "            nn.ReLU(),\n",
        "            nn.Dropout(),\n",
        "            nn.Conv1d(64, 64, 1),\n",
        "             nn.MaxPool1d(1),\n",
        "            nn.ReLU(),\n",
        "            nn.Dropout(),\n",
        "            nn.Conv1d(64, 64, 1),\n",
        "            nn.MaxPool1d(1),\n",
        "            nn.ReLU(),\n",
        "            )\n",
        "     \n",
        "        self.classifier = nn.Sequential(\n",
        "        \tnn.Dropout(),\n",
        "        \tnn.Linear(6400,3200),\n",
        "        \tnn.ReLU(),\n",
        "        \tnn.Dropout(),\n",
        "          nn.Linear(3200,100),\n",
        "        \tnn.ReLU(),\n",
        "        \tnn.Dropout(),\n",
        "        \tnn.Linear(100,1),\n",
        "        \t)\n",
        "\n",
        "    def forward(self, x):\n",
        "      x = self.features(x)\n",
        "      x = torch.flatten(x)\n",
        "     \n",
        "      out = self.classifier(x)\n",
        "\n",
        "      return out"
      ]
    },
    {
      "cell_type": "code",
      "source": [
        "class Net(nn.Module):\n",
        "    def __init__(self):\n",
        "        super(Net, self).__init__()\n",
        "\n",
        "        def conv_bn(inp, oup, stride):\n",
        "            return nn.Sequential(\n",
        "                nn.Conv1d(inp, oup, 3, stride, 1, bias=False),\n",
        "                nn.BatchNorm1d(oup),\n",
        "                nn.ReLU(inplace=True)\n",
        "            )\n",
        "\n",
        "        def conv_dw(inp, oup, stride):\n",
        "            return nn.Sequential(\n",
        "                nn.Conv1d(inp, inp, 3, stride, 1, groups=inp, bias=False),\n",
        "                nn.BatchNorm1d(inp),\n",
        "                nn.ReLU(inplace=True),\n",
        "    \n",
        "                nn.Conv1d(inp, oup, 1, 1, 0, bias=False),\n",
        "                nn.BatchNorm1d(oup),\n",
        "                nn.ReLU(inplace=True),\n",
        "            )\n",
        "\n",
        "        self.model = nn.Sequential(\n",
        "            conv_bn(  100,  100, 2), \n",
        "            conv_dw( 100,  128, 1),\n",
        "            conv_dw( 128, 128, 2),\n",
        "            conv_dw(128, 128, 1),\n",
        "            conv_dw(128, 256, 2),\n",
        "            conv_dw(256, 256, 1),\n",
        "            conv_dw(256, 512, 2),\n",
        "            conv_dw(512, 512, 1),\n",
        "            conv_dw(512, 512, 1),\n",
        "            conv_dw(512, 512, 1),\n",
        "            conv_dw(512, 512, 1),\n",
        "            conv_dw(512, 512, 1),\n",
        "            conv_dw(512, 1024, 2),\n",
        "            conv_dw(1024, 1024, 1),\n",
        "            nn.AvgPool1d(1),\n",
        "        )\n",
        "\n",
        "        self.classifier = nn.Sequential(\n",
        "        nn.Linear(1024, 512),\n",
        "      \tnn.ReLU(),\n",
        "        nn.Linear(512, 256),\n",
        "        nn.Linear(256, 128),\n",
        "        nn.ReLU(),\n",
        "        nn.Linear(128, 1)\n",
        "\n",
        "        )\n",
        "    def forward(self, x):\n",
        "        x = self.model(x)\n",
        "        x = x.view(-1, 1024)\n",
        "        x = self.classifier(x)\n",
        "        return x"
      ],
      "metadata": {
        "id": "Im1T2rZ3ZQt1"
      },
      "execution_count": 575,
      "outputs": []
    },
    {
      "cell_type": "code",
      "execution_count": 576,
      "metadata": {
        "id": "YYo9OJqEOJwB"
      },
      "outputs": [],
      "source": [
        "def get_default_device():\n",
        "\n",
        "  if torch.cuda.is_available():\n",
        "    return torch.device(\"cuda\")\n",
        "\n",
        "  else:\n",
        "    return torch.device(\"cpu\")"
      ]
    },
    {
      "cell_type": "code",
      "execution_count": 577,
      "metadata": {
        "colab": {
          "base_uri": "https://localhost:8080/"
        },
        "id": "SXhJsTOPOOaF",
        "outputId": "800c7b3e-e626-49cf-a7b7-01b69ff2f7cb"
      },
      "outputs": [
        {
          "output_type": "execute_result",
          "data": {
            "text/plain": [
              "device(type='cuda')"
            ]
          },
          "metadata": {},
          "execution_count": 577
        }
      ],
      "source": [
        "device = get_default_device();\n",
        "device"
      ]
    },
    {
      "cell_type": "code",
      "execution_count": 578,
      "metadata": {
        "id": "KvgowT2dOQs9"
      },
      "outputs": [],
      "source": [
        "def to_device(data,device):\n",
        "\n",
        "  if isinstance(data,(list,tuple)):\n",
        "    return [to_device(x,device) for x in data]\n",
        "\n",
        "  return data.to(device,non_blocking=True)"
      ]
    },
    {
      "cell_type": "code",
      "source": [
        "for images,labels in train_dataloader:\n",
        "  images = to_device(images,device)\n",
        "\n"
      ],
      "metadata": {
        "id": "ufrrEFF7KZho"
      },
      "execution_count": 579,
      "outputs": []
    },
    {
      "cell_type": "code",
      "source": [
        "class DeviceDataLoader():\n",
        "    \n",
        "    def __init__(self, dl, device):\n",
        "        self.dl = dl\n",
        "        self.device = device\n",
        "        \n",
        "    def __iter__(self):\n",
        "        \n",
        "        for b in self.dl: \n",
        "            yield to_device(b, self.device)\n",
        "\n",
        "    def __len__(self):\n",
        "       \n",
        "        return len(self.dl)"
      ],
      "metadata": {
        "id": "o-Qg8PQRKj33"
      },
      "execution_count": 580,
      "outputs": []
    },
    {
      "cell_type": "code",
      "source": [
        "train_dataloader  = DeviceDataLoader(train_dataloader,device)\n",
        "to_device(model,device)"
      ],
      "metadata": {
        "colab": {
          "base_uri": "https://localhost:8080/"
        },
        "id": "uIXp__7cKoTb",
        "outputId": "5e2d38e8-9a1a-4b80-aa68-d2da98c0d5b6"
      },
      "execution_count": 581,
      "outputs": [
        {
          "output_type": "execute_result",
          "data": {
            "text/plain": [
              "Net(\n",
              "  (model): Sequential(\n",
              "    (0): Sequential(\n",
              "      (0): Conv1d(100, 100, kernel_size=(3,), stride=(1,), padding=(1,), bias=False)\n",
              "      (1): BatchNorm1d(100, eps=1e-05, momentum=0.1, affine=True, track_running_stats=True)\n",
              "      (2): ReLU(inplace=True)\n",
              "    )\n",
              "    (1): Sequential(\n",
              "      (0): Conv1d(100, 100, kernel_size=(3,), stride=(1,), padding=(1,), groups=100, bias=False)\n",
              "      (1): BatchNorm1d(100, eps=1e-05, momentum=0.1, affine=True, track_running_stats=True)\n",
              "      (2): ReLU(inplace=True)\n",
              "      (3): Conv1d(100, 128, kernel_size=(1,), stride=(1,), bias=False)\n",
              "      (4): BatchNorm1d(128, eps=1e-05, momentum=0.1, affine=True, track_running_stats=True)\n",
              "      (5): ReLU(inplace=True)\n",
              "    )\n",
              "    (2): Sequential(\n",
              "      (0): Conv1d(128, 128, kernel_size=(3,), stride=(1,), padding=(1,), groups=128, bias=False)\n",
              "      (1): BatchNorm1d(128, eps=1e-05, momentum=0.1, affine=True, track_running_stats=True)\n",
              "      (2): ReLU(inplace=True)\n",
              "      (3): Conv1d(128, 128, kernel_size=(1,), stride=(1,), bias=False)\n",
              "      (4): BatchNorm1d(128, eps=1e-05, momentum=0.1, affine=True, track_running_stats=True)\n",
              "      (5): ReLU(inplace=True)\n",
              "    )\n",
              "    (3): Sequential(\n",
              "      (0): Conv1d(128, 128, kernel_size=(3,), stride=(1,), padding=(1,), groups=128, bias=False)\n",
              "      (1): BatchNorm1d(128, eps=1e-05, momentum=0.1, affine=True, track_running_stats=True)\n",
              "      (2): ReLU(inplace=True)\n",
              "      (3): Conv1d(128, 128, kernel_size=(1,), stride=(1,), bias=False)\n",
              "      (4): BatchNorm1d(128, eps=1e-05, momentum=0.1, affine=True, track_running_stats=True)\n",
              "      (5): ReLU(inplace=True)\n",
              "    )\n",
              "    (4): Sequential(\n",
              "      (0): Conv1d(128, 128, kernel_size=(3,), stride=(1,), padding=(1,), groups=128, bias=False)\n",
              "      (1): BatchNorm1d(128, eps=1e-05, momentum=0.1, affine=True, track_running_stats=True)\n",
              "      (2): ReLU(inplace=True)\n",
              "      (3): Conv1d(128, 256, kernel_size=(1,), stride=(1,), bias=False)\n",
              "      (4): BatchNorm1d(256, eps=1e-05, momentum=0.1, affine=True, track_running_stats=True)\n",
              "      (5): ReLU(inplace=True)\n",
              "    )\n",
              "    (5): Sequential(\n",
              "      (0): Conv1d(256, 256, kernel_size=(3,), stride=(1,), padding=(1,), groups=256, bias=False)\n",
              "      (1): BatchNorm1d(256, eps=1e-05, momentum=0.1, affine=True, track_running_stats=True)\n",
              "      (2): ReLU(inplace=True)\n",
              "      (3): Conv1d(256, 256, kernel_size=(1,), stride=(1,), bias=False)\n",
              "      (4): BatchNorm1d(256, eps=1e-05, momentum=0.1, affine=True, track_running_stats=True)\n",
              "      (5): ReLU(inplace=True)\n",
              "    )\n",
              "    (6): Sequential(\n",
              "      (0): Conv1d(256, 256, kernel_size=(3,), stride=(1,), padding=(1,), groups=256, bias=False)\n",
              "      (1): BatchNorm1d(256, eps=1e-05, momentum=0.1, affine=True, track_running_stats=True)\n",
              "      (2): ReLU(inplace=True)\n",
              "      (3): Conv1d(256, 512, kernel_size=(1,), stride=(1,), bias=False)\n",
              "      (4): BatchNorm1d(512, eps=1e-05, momentum=0.1, affine=True, track_running_stats=True)\n",
              "      (5): ReLU(inplace=True)\n",
              "    )\n",
              "    (7): Sequential(\n",
              "      (0): Conv1d(512, 512, kernel_size=(3,), stride=(1,), padding=(1,), groups=512, bias=False)\n",
              "      (1): BatchNorm1d(512, eps=1e-05, momentum=0.1, affine=True, track_running_stats=True)\n",
              "      (2): ReLU(inplace=True)\n",
              "      (3): Conv1d(512, 512, kernel_size=(1,), stride=(1,), bias=False)\n",
              "      (4): BatchNorm1d(512, eps=1e-05, momentum=0.1, affine=True, track_running_stats=True)\n",
              "      (5): ReLU(inplace=True)\n",
              "    )\n",
              "    (8): Sequential(\n",
              "      (0): Conv1d(512, 512, kernel_size=(3,), stride=(1,), padding=(1,), groups=512, bias=False)\n",
              "      (1): BatchNorm1d(512, eps=1e-05, momentum=0.1, affine=True, track_running_stats=True)\n",
              "      (2): ReLU(inplace=True)\n",
              "      (3): Conv1d(512, 512, kernel_size=(1,), stride=(1,), bias=False)\n",
              "      (4): BatchNorm1d(512, eps=1e-05, momentum=0.1, affine=True, track_running_stats=True)\n",
              "      (5): ReLU(inplace=True)\n",
              "    )\n",
              "    (9): Sequential(\n",
              "      (0): Conv1d(512, 512, kernel_size=(3,), stride=(1,), padding=(1,), groups=512, bias=False)\n",
              "      (1): BatchNorm1d(512, eps=1e-05, momentum=0.1, affine=True, track_running_stats=True)\n",
              "      (2): ReLU(inplace=True)\n",
              "      (3): Conv1d(512, 512, kernel_size=(1,), stride=(1,), bias=False)\n",
              "      (4): BatchNorm1d(512, eps=1e-05, momentum=0.1, affine=True, track_running_stats=True)\n",
              "      (5): ReLU(inplace=True)\n",
              "    )\n",
              "    (10): Sequential(\n",
              "      (0): Conv1d(512, 512, kernel_size=(3,), stride=(1,), padding=(1,), groups=512, bias=False)\n",
              "      (1): BatchNorm1d(512, eps=1e-05, momentum=0.1, affine=True, track_running_stats=True)\n",
              "      (2): ReLU(inplace=True)\n",
              "      (3): Conv1d(512, 512, kernel_size=(1,), stride=(1,), bias=False)\n",
              "      (4): BatchNorm1d(512, eps=1e-05, momentum=0.1, affine=True, track_running_stats=True)\n",
              "      (5): ReLU(inplace=True)\n",
              "    )\n",
              "    (11): Sequential(\n",
              "      (0): Conv1d(512, 512, kernel_size=(3,), stride=(1,), padding=(1,), groups=512, bias=False)\n",
              "      (1): BatchNorm1d(512, eps=1e-05, momentum=0.1, affine=True, track_running_stats=True)\n",
              "      (2): ReLU(inplace=True)\n",
              "      (3): Conv1d(512, 512, kernel_size=(1,), stride=(1,), bias=False)\n",
              "      (4): BatchNorm1d(512, eps=1e-05, momentum=0.1, affine=True, track_running_stats=True)\n",
              "      (5): ReLU(inplace=True)\n",
              "    )\n",
              "    (12): Sequential(\n",
              "      (0): Conv1d(512, 512, kernel_size=(3,), stride=(1,), padding=(1,), groups=512, bias=False)\n",
              "      (1): BatchNorm1d(512, eps=1e-05, momentum=0.1, affine=True, track_running_stats=True)\n",
              "      (2): ReLU(inplace=True)\n",
              "      (3): Conv1d(512, 1024, kernel_size=(1,), stride=(1,), bias=False)\n",
              "      (4): BatchNorm1d(1024, eps=1e-05, momentum=0.1, affine=True, track_running_stats=True)\n",
              "      (5): ReLU(inplace=True)\n",
              "    )\n",
              "    (13): Sequential(\n",
              "      (0): Conv1d(1024, 1024, kernel_size=(3,), stride=(1,), padding=(1,), groups=1024, bias=False)\n",
              "      (1): BatchNorm1d(1024, eps=1e-05, momentum=0.1, affine=True, track_running_stats=True)\n",
              "      (2): ReLU(inplace=True)\n",
              "      (3): Conv1d(1024, 1024, kernel_size=(1,), stride=(1,), bias=False)\n",
              "      (4): BatchNorm1d(1024, eps=1e-05, momentum=0.1, affine=True, track_running_stats=True)\n",
              "      (5): ReLU(inplace=True)\n",
              "    )\n",
              "    (14): AvgPool1d(kernel_size=(1,), stride=(1,), padding=(0,))\n",
              "  )\n",
              "  (classifier): Sequential(\n",
              "    (0): Dropout(p=0.5, inplace=False)\n",
              "    (1): Linear(in_features=1024, out_features=512, bias=True)\n",
              "    (2): ReLU()\n",
              "    (3): Dropout(p=0.5, inplace=False)\n",
              "    (4): Linear(in_features=512, out_features=256, bias=True)\n",
              "    (5): ReLU()\n",
              "    (6): Dropout(p=0.5, inplace=False)\n",
              "    (7): Linear(in_features=256, out_features=128, bias=True)\n",
              "    (8): ReLU()\n",
              "    (9): Dropout(p=0.5, inplace=False)\n",
              "    (10): Linear(in_features=128, out_features=1, bias=True)\n",
              "  )\n",
              ")"
            ]
          },
          "metadata": {},
          "execution_count": 581
        }
      ]
    },
    {
      "cell_type": "code",
      "execution_count": 582,
      "metadata": {
        "id": "ECWOMmHUO5pg"
      },
      "outputs": [],
      "source": [
        "model = Net().to(device)\n",
        "loss_function = nn.MSELoss()\n",
        "optimizer = torch.optim.Adam(model.parameters(), lr=1e-3)\n"
      ]
    },
    {
      "cell_type": "code",
      "execution_count": 583,
      "metadata": {
        "colab": {
          "base_uri": "https://localhost:8080/"
        },
        "id": "8BVG_XJpPkge",
        "outputId": "089e1b77-a28f-4aae-ce81-8368e614c7f0"
      },
      "outputs": [
        {
          "output_type": "stream",
          "name": "stderr",
          "text": [
            "/usr/local/lib/python3.7/dist-packages/torch/nn/modules/loss.py:529: UserWarning: Using a target size (torch.Size([64])) that is different to the input size (torch.Size([64, 1])). This will likely lead to incorrect results due to broadcasting. Please ensure they have the same size.\n",
            "  return F.mse_loss(input, target, reduction=self.reduction)\n"
          ]
        },
        {
          "output_type": "stream",
          "name": "stdout",
          "text": [
            "epoch:   0 loss: 0.00193200\n",
            "epoch:   1 loss: 0.01884487\n",
            "epoch:   2 loss: 0.05671794\n",
            "epoch:   3 loss: 0.02514225\n",
            "epoch:   4 loss: 0.02561327\n",
            "epoch:   5 loss: 0.02186418\n",
            "epoch:   6 loss: 0.01325551\n",
            "epoch:   7 loss: 0.01533833\n",
            "epoch:   8 loss: 0.02266130\n",
            "epoch:   9 loss: 0.03144807\n",
            "epoch:  10 loss: 0.01409662\n",
            "epoch:  11 loss: 0.02929514\n",
            "epoch:  12 loss: 0.01962921\n",
            "epoch:  13 loss: 0.00823517\n",
            "epoch:  14 loss: 0.00662278\n",
            "epoch:  15 loss: 0.01201143\n",
            "epoch:  16 loss: 0.01429022\n",
            "epoch:  17 loss: 0.01083949\n",
            "epoch:  18 loss: 0.02613094\n",
            "epoch:  19 loss: 0.02933151\n",
            "epoch:  20 loss: 0.01794268\n",
            "epoch:  21 loss: 0.01353823\n",
            "epoch:  22 loss: 0.01468912\n",
            "epoch:  23 loss: 0.00617232\n",
            "epoch:  24 loss: 0.01804035\n",
            "epoch:  25 loss: 0.00388190\n",
            "epoch:  26 loss: 0.01333325\n",
            "epoch:  27 loss: 0.00178004\n",
            "epoch:  28 loss: 0.07262986\n",
            "epoch:  29 loss: 0.02932255\n",
            "epoch:  30 loss: 0.04458109\n",
            "epoch:  31 loss: 0.03227361\n",
            "epoch:  32 loss: 0.01800522\n",
            "epoch:  33 loss: 0.01575978\n",
            "epoch:  34 loss: 0.01334080\n",
            "epoch:  35 loss: 0.01015116\n",
            "epoch:  36 loss: 0.00408651\n",
            "epoch:  37 loss: 0.00519248\n",
            "epoch:  38 loss: 0.00382721\n",
            "epoch:  39 loss: 0.00833468\n",
            "epoch:  40 loss: 0.01179469\n",
            "epoch:  41 loss: 0.01935360\n",
            "epoch:  42 loss: 0.05280567\n",
            "epoch:  43 loss: 0.00375361\n",
            "epoch:  44 loss: 0.00784659\n",
            "epoch:  45 loss: 0.00492498\n",
            "epoch:  46 loss: 0.01240904\n",
            "epoch:  47 loss: 0.00317382\n",
            "epoch:  48 loss: 0.00503084\n",
            "epoch:  49 loss: 0.00589855\n",
            "epoch:  50 loss: 0.00610182\n",
            "epoch:  51 loss: 0.01797455\n",
            "epoch:  52 loss: 0.01378851\n",
            "epoch:  53 loss: 0.01432102\n",
            "epoch:  54 loss: 0.01970736\n",
            "epoch:  55 loss: 0.00175192\n",
            "epoch:  56 loss: 0.00311720\n",
            "epoch:  57 loss: 0.00099686\n",
            "epoch:  58 loss: 0.02163501\n",
            "epoch:  59 loss: 0.00660047\n",
            "epoch:  60 loss: 0.00136652\n",
            "epoch:  61 loss: 0.02784644\n",
            "epoch:  62 loss: 0.00471559\n",
            "epoch:  63 loss: 0.00204126\n",
            "epoch:  64 loss: 0.00171646\n",
            "epoch:  65 loss: 0.00137993\n",
            "epoch:  66 loss: 0.00227050\n",
            "epoch:  67 loss: 0.00134231\n",
            "epoch:  68 loss: 0.00655371\n",
            "epoch:  69 loss: 0.00082790\n",
            "epoch:  70 loss: 0.00210533\n",
            "epoch:  71 loss: 0.00086700\n",
            "epoch:  72 loss: 0.00127836\n",
            "epoch:  73 loss: 0.00086847\n",
            "epoch:  74 loss: 0.00093552\n",
            "epoch:  75 loss: 0.00088289\n",
            "epoch:  76 loss: 0.00092254\n",
            "epoch:  77 loss: 0.00085820\n",
            "epoch:  78 loss: 0.00086504\n",
            "epoch:  79 loss: 0.00077415\n",
            "epoch:  80 loss: 0.00082137\n",
            "epoch:  81 loss: 0.00074618\n",
            "epoch:  82 loss: 0.00087372\n",
            "epoch:  83 loss: 0.00073052\n",
            "epoch:  84 loss: 0.00091443\n",
            "epoch:  85 loss: 0.00073549\n",
            "epoch:  86 loss: 0.00100933\n",
            "epoch:  87 loss: 0.00073962\n",
            "epoch:  88 loss: 0.00112014\n",
            "epoch:  89 loss: 0.00075519\n",
            "epoch:  90 loss: 0.00156913\n",
            "epoch:  91 loss: 0.00077296\n",
            "epoch:  92 loss: 0.00176198\n",
            "epoch:  93 loss: 0.00077120\n",
            "epoch:  94 loss: 0.00177026\n",
            "epoch:  95 loss: 0.00077073\n",
            "epoch:  96 loss: 0.00180685\n",
            "epoch:  97 loss: 0.00081944\n",
            "epoch:  98 loss: 0.00170683\n",
            "epoch:  99 loss: 0.00080912\n"
          ]
        }
      ],
      "source": [
        "epochs = 100\n",
        "\n",
        "for i in range(epochs):\n",
        "    \n",
        "    model.train()\n",
        "    for seq, labels in train_dataloader:\n",
        "        optimizer.zero_grad()\n",
        "\n",
        "        y_pred = model(seq.reshape(64,100,1))\n",
        "  \n",
        "\n",
        "        single_loss = loss_function(y_pred, labels)\n",
        "        single_loss.backward()        \n",
        "        optimizer.step()\n",
        "        correct += torch.sum(y_pred == labels).item()\n",
        "\n",
        "      \n",
        "             \n",
        "\n",
        "\n",
        "    \n",
        "\n",
        "\n",
        "    \n",
        "    print(f'epoch: {i:3} loss: {single_loss.item():10.8f}')\n",
        "    \n",
        "  \n",
        "\n",
        "       \n",
        "\n",
        "        \n",
        "\n"
      ]
    },
    {
      "cell_type": "code",
      "source": [
        "import math\n",
        "from sklearn.metrics import mean_squared_error\n",
        "import numpy as np\n",
        "def calculate_metrics(data_loader):\n",
        "    pred_arr = []\n",
        "    y_arr = []\n",
        "    with torch.no_grad():\n",
        "      \n",
        "        for batch , item in enumerate(data_loader):\n",
        "            x , y = item\n",
        "            x , y = x.to(device) , y.to(device)\n",
        "            x = x.view(64,100,1)\n",
        "            pred = model(x)\n",
        "          \n",
        "            pred = scalar.inverse_transform(pred.detach().cpu().numpy())\n",
        "          \n",
        "            y = scalar.inverse_transform(y.detach().cpu().numpy().reshape(1,-1)).reshape(-1)\n",
        "            pred_arr = pred_arr + list(pred)\n",
        "            y_arr = y_arr + list(y)\n",
        "       \n",
        "        return math.sqrt(mean_squared_error(y_arr,pred_arr))"
      ],
      "metadata": {
        "id": "qZp79GpvI6to"
      },
      "execution_count": 584,
      "outputs": []
    },
    {
      "cell_type": "code",
      "source": [
        "print(f\"train mse loss {calculate_metrics(train_dataloader)}\")\n",
        "print(f\"train mse loss {calculate_metrics(test_dataloader)}\")"
      ],
      "metadata": {
        "colab": {
          "base_uri": "https://localhost:8080/"
        },
        "id": "IGGcUbxOJMjD",
        "outputId": "0aa89e95-feb4-4b29-9b66-d19e7b977105"
      },
      "execution_count": 585,
      "outputs": [
        {
          "output_type": "stream",
          "name": "stdout",
          "text": [
            "train mse loss 5.360147937611978\n",
            "train mse loss 95.89960061667358\n"
          ]
        }
      ]
    }
  ],
  "metadata": {
    "accelerator": "GPU",
    "colab": {
      "collapsed_sections": [],
      "name": "time_series-1Dcnn.ipynb",
      "provenance": [],
      "authorship_tag": "ABX9TyPwAYwML+5YaTShEuL8S7Xl",
      "include_colab_link": true
    },
    "kernelspec": {
      "display_name": "Python 3",
      "name": "python3"
    },
    "language_info": {
      "name": "python"
    }
  },
  "nbformat": 4,
  "nbformat_minor": 0
}